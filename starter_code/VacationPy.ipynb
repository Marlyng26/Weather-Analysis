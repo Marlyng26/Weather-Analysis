{
 "cells": [
  {
   "cell_type": "markdown",
   "metadata": {},
   "source": [
    "# VacationPy\n",
    "----\n",
    "\n",
    "#### Note\n",
    "* Keep an eye on your API usage. Use https://developers.google.com/maps/reporting/gmp-reporting as reference for how to monitor your usage and billing.\n",
    "\n",
    "* Instructions have been included for each segment. You do not have to follow them exactly, but they are included to help you think through the steps."
   ]
  },
  {
   "cell_type": "code",
   "execution_count": 1,
   "metadata": {},
   "outputs": [],
   "source": [
    "# Dependencies and Setup\n",
    "\n",
    "import matplotlib.pyplot as plt\n",
    "import pandas as pd\n",
    "import numpy as np\n",
    "import requests\n",
    "import gmaps\n",
    "import os\n",
    "\n",
    "# Import API key\n",
    "from api_keys import g_key\n",
    "gmaps.configure(api_key=g_key)"
   ]
  },
  {
   "cell_type": "markdown",
   "metadata": {},
   "source": [
    "### Store Part I results into DataFrame\n",
    "* Load the csv exported in Part I to a DataFrame"
   ]
  },
  {
   "cell_type": "code",
   "execution_count": 2,
   "metadata": {},
   "outputs": [
    {
     "data": {
      "text/html": [
       "<div>\n",
       "<style scoped>\n",
       "    .dataframe tbody tr th:only-of-type {\n",
       "        vertical-align: middle;\n",
       "    }\n",
       "\n",
       "    .dataframe tbody tr th {\n",
       "        vertical-align: top;\n",
       "    }\n",
       "\n",
       "    .dataframe thead th {\n",
       "        text-align: right;\n",
       "    }\n",
       "</style>\n",
       "<table border=\"1\" class=\"dataframe\">\n",
       "  <thead>\n",
       "    <tr style=\"text-align: right;\">\n",
       "      <th></th>\n",
       "      <th>City</th>\n",
       "      <th>Cloudiness</th>\n",
       "      <th>Country</th>\n",
       "      <th>Date</th>\n",
       "      <th>Humidity</th>\n",
       "      <th>longitude</th>\n",
       "      <th>latitude</th>\n",
       "      <th>Max Temperature</th>\n",
       "      <th>Wind Speed List</th>\n",
       "    </tr>\n",
       "  </thead>\n",
       "  <tbody>\n",
       "    <tr>\n",
       "      <th>0</th>\n",
       "      <td>Leningradskiy</td>\n",
       "      <td>100</td>\n",
       "      <td>RU</td>\n",
       "      <td>1612452564</td>\n",
       "      <td>85</td>\n",
       "      <td>178.4167</td>\n",
       "      <td>69.3833</td>\n",
       "      <td>240.83</td>\n",
       "      <td>2.75</td>\n",
       "    </tr>\n",
       "    <tr>\n",
       "      <th>1</th>\n",
       "      <td>Busselton</td>\n",
       "      <td>0</td>\n",
       "      <td>AU</td>\n",
       "      <td>1612452564</td>\n",
       "      <td>64</td>\n",
       "      <td>115.3333</td>\n",
       "      <td>-33.6500</td>\n",
       "      <td>287.19</td>\n",
       "      <td>7.15</td>\n",
       "    </tr>\n",
       "    <tr>\n",
       "      <th>2</th>\n",
       "      <td>Barrow</td>\n",
       "      <td>1</td>\n",
       "      <td>US</td>\n",
       "      <td>1612452565</td>\n",
       "      <td>75</td>\n",
       "      <td>-156.7887</td>\n",
       "      <td>71.2906</td>\n",
       "      <td>240.15</td>\n",
       "      <td>7.20</td>\n",
       "    </tr>\n",
       "    <tr>\n",
       "      <th>3</th>\n",
       "      <td>Butaritari</td>\n",
       "      <td>100</td>\n",
       "      <td>KI</td>\n",
       "      <td>1612452565</td>\n",
       "      <td>84</td>\n",
       "      <td>172.7902</td>\n",
       "      <td>3.0707</td>\n",
       "      <td>300.00</td>\n",
       "      <td>6.66</td>\n",
       "    </tr>\n",
       "    <tr>\n",
       "      <th>4</th>\n",
       "      <td>Dvinskoy</td>\n",
       "      <td>95</td>\n",
       "      <td>RU</td>\n",
       "      <td>1612452565</td>\n",
       "      <td>97</td>\n",
       "      <td>45.1175</td>\n",
       "      <td>62.1535</td>\n",
       "      <td>263.82</td>\n",
       "      <td>1.94</td>\n",
       "    </tr>\n",
       "  </tbody>\n",
       "</table>\n",
       "</div>"
      ],
      "text/plain": [
       "            City  Cloudiness Country        Date  Humidity  longitude  \\\n",
       "0  Leningradskiy         100      RU  1612452564        85   178.4167   \n",
       "1      Busselton           0      AU  1612452564        64   115.3333   \n",
       "2         Barrow           1      US  1612452565        75  -156.7887   \n",
       "3     Butaritari         100      KI  1612452565        84   172.7902   \n",
       "4       Dvinskoy          95      RU  1612452565        97    45.1175   \n",
       "\n",
       "   latitude  Max Temperature  Wind Speed List  \n",
       "0   69.3833           240.83             2.75  \n",
       "1  -33.6500           287.19             7.15  \n",
       "2   71.2906           240.15             7.20  \n",
       "3    3.0707           300.00             6.66  \n",
       "4   62.1535           263.82             1.94  "
      ]
     },
     "execution_count": 2,
     "metadata": {},
     "output_type": "execute_result"
    }
   ],
   "source": [
    "exported_csv= \"../output_data/cities.csv\"\n",
    "\n",
    "cities_df= pd.read_csv(\"../output_data/cities.csv\")\n",
    "\n",
    "cities_df.head()"
   ]
  },
  {
   "cell_type": "markdown",
   "metadata": {},
   "source": [
    "### Humidity Heatmap\n",
    "* Configure gmaps.\n",
    "* Use the Lat and Lng as locations and Humidity as the weight.\n",
    "* Add Heatmap layer to map."
   ]
  },
  {
   "cell_type": "code",
   "execution_count": 3,
   "metadata": {},
   "outputs": [
    {
     "data": {
      "application/vnd.jupyter.widget-view+json": {
       "model_id": "1a36afbb90ae4b8599edb25e6315a8bd",
       "version_major": 2,
       "version_minor": 0
      },
      "text/plain": [
       "Figure(layout=FigureLayout(height='420px'))"
      ]
     },
     "metadata": {},
     "output_type": "display_data"
    }
   ],
   "source": [
    "#Config gmaps with gkey\n",
    "gmaps.configure(api_key=g_key)\n",
    "\n",
    "cities_df= cities_df.dropna()\n",
    "humidity = cities_df[\"Humidity\"].astype(float)\n",
    "locations=cities_df[[\"latitude\",\"longitude\"]]\n",
    "\n",
    "#Save Lat and Long\n",
    "locations =cities_df[[\"latitude\", \"longitude\"]].astype(float)\n",
    "\n",
    "fig = gmaps.figure()\n",
    "\n",
    "heater_map = gmaps.heatmap_layer(locations, weights=humidity,\n",
    "                                 dissipating=False, max_intensity=5,\n",
    "                                 point_radius=1)\n",
    "\n",
    "fig.add_layer(heater_map)\n",
    "\n",
    "fig"
   ]
  },
  {
   "cell_type": "code",
   "execution_count": null,
   "metadata": {},
   "outputs": [],
   "source": []
  },
  {
   "cell_type": "markdown",
   "metadata": {},
   "source": [
    "### Create new DataFrame fitting weather criteria\n",
    "* Narrow down the cities to fit weather conditions.\n",
    "* Drop any rows will null values."
   ]
  },
  {
   "cell_type": "code",
   "execution_count": 4,
   "metadata": {
    "scrolled": true
   },
   "outputs": [
    {
     "data": {
      "text/html": [
       "<div>\n",
       "<style scoped>\n",
       "    .dataframe tbody tr th:only-of-type {\n",
       "        vertical-align: middle;\n",
       "    }\n",
       "\n",
       "    .dataframe tbody tr th {\n",
       "        vertical-align: top;\n",
       "    }\n",
       "\n",
       "    .dataframe thead th {\n",
       "        text-align: right;\n",
       "    }\n",
       "</style>\n",
       "<table border=\"1\" class=\"dataframe\">\n",
       "  <thead>\n",
       "    <tr style=\"text-align: right;\">\n",
       "      <th></th>\n",
       "      <th>City</th>\n",
       "      <th>Cloudiness</th>\n",
       "      <th>Country</th>\n",
       "      <th>Date</th>\n",
       "      <th>Humidity</th>\n",
       "      <th>longitude</th>\n",
       "      <th>latitude</th>\n",
       "      <th>Max Temperature</th>\n",
       "      <th>Wind Speed List</th>\n",
       "    </tr>\n",
       "  </thead>\n",
       "  <tbody>\n",
       "  </tbody>\n",
       "</table>\n",
       "</div>"
      ],
      "text/plain": [
       "Empty DataFrame\n",
       "Columns: [City, Cloudiness, Country, Date, Humidity, longitude, latitude, Max Temperature, Wind Speed List]\n",
       "Index: []"
      ]
     },
     "execution_count": 4,
     "metadata": {},
     "output_type": "execute_result"
    }
   ],
   "source": [
    "# Narrow down the DataFrame to find your ideal weather condition. For example:\n",
    "\n",
    "\n",
    "filtered_cities = cities_df\n",
    "\n",
    "#   * A max temperature lower than 80 degrees but higher than 70.\n",
    "filtered_cities= filtered_cities.loc[(filtered_cities[\"Max Temperature\"] < 80) & (filtered_cities[\"Max Temperature\"] > 70)]\n",
    "\n",
    "#   * Wind speed less than 10 mph.\n",
    "filtered_cities= filtered_cities.loc[filtered_cities[\"Wind Speed List\"] < 10]      \n",
    "\n",
    "#   * Zero cloudiness.\n",
    "filtered_cities=filtered_cities.loc[filtered_cities[\"Cloudiness\"] == 0]\n",
    "\n",
    "#   * Drop any rows that don't contain all three conditions. You want to be sure the weather is ideal.\n",
    "filtered_cities = filtered_cities.dropna()\n",
    "\n",
    "filtered_cities.head(10)"
   ]
  },
  {
   "cell_type": "markdown",
   "metadata": {},
   "source": [
    "### Hotel Map\n",
    "* Store into variable named `hotel_df`.\n",
    "* Add a \"Hotel Name\" column to the DataFrame.\n",
    "* Set parameters to search for hotels with 5000 meters.\n",
    "* Hit the Google Places API for each city's coordinates.\n",
    "* Store the first Hotel result into the DataFrame.\n",
    "* Plot markers on top of the heatmap."
   ]
  },
  {
   "cell_type": "code",
   "execution_count": 5,
   "metadata": {},
   "outputs": [
    {
     "name": "stdout",
     "output_type": "stream",
     "text": [
      "<class 'pandas.core.frame.DataFrame'>\n",
      "Int64Index: 0 entries\n",
      "Data columns (total 10 columns):\n",
      " #   Column           Non-Null Count  Dtype  \n",
      "---  ------           --------------  -----  \n",
      " 0   City             0 non-null      object \n",
      " 1   Cloudiness       0 non-null      int64  \n",
      " 2   Country          0 non-null      object \n",
      " 3   Date             0 non-null      int64  \n",
      " 4   Humidity         0 non-null      int64  \n",
      " 5   longitude        0 non-null      float64\n",
      " 6   latitude         0 non-null      float64\n",
      " 7   Max Temperature  0 non-null      float64\n",
      " 8   Wind Speed List  0 non-null      float64\n",
      " 9   Hotel Name       0 non-null      object \n",
      "dtypes: float64(4), int64(3), object(3)\n",
      "memory usage: 0.0+ bytes\n"
     ]
    }
   ],
   "source": [
    "# hotel_map_df = filtered_cities.loc[:,[\"City\",\"Country\", \"Lat\", \"Lng\"]]\n",
    "\n",
    "# #Add  'Hotel Name' to DataFrame\n",
    "\n",
    "# hotel_map_df[\"Hotel Name\"] = \"\"\n",
    "hotel_df = filtered_cities\n",
    "\n",
    "hotel_df['Hotel Name'] = \"\"\n",
    "#hotel_df.head()\n",
    "#paramatered dictionary for iteration\n",
    "params = {\n",
    "    \"radius\": 5000,\n",
    "    \"types\": \"lodging\",\n",
    "    \"keyword\": \"Hotel\",\n",
    "    \"key\": g_key\n",
    "}\n",
    "\n",
    "# Use the lat/lng we recovered to identify airports\n",
    "for index, row in hotel_df.iterrows():\n",
    "    # get lat, lng from hotel_df\n",
    "    lat = row[\"latitude\"]\n",
    "    lng = row[\"longitude\"]\n",
    "\n",
    "    # change location each iteration while leaving original params in place\n",
    "    params[\"location\"] = f\"{lat},{lng}\"\n",
    "\n",
    "    # Use the search term: \"Hotel\" \n",
    "    base_url = \"https://maps.googleapis.com/maps/api/place/nearbysearch/json\"\n",
    "\n",
    "    # get requests\n",
    "    name_address = requests.get(base_url, params=params)\n",
    "    \n",
    "    \n",
    "\n",
    "    # JSONify\n",
    "    name_address = name_address.json()\n",
    "    #print(json.dumps(name_address, indent=4, sort_keys=True))\n",
    "\n",
    "    #  try-except to skip any that are missing data\n",
    "    try:\n",
    "        hotel_df.loc[index, \"Hotel Name\"] = name_address[\"results\"][0][\"name\"]\n",
    "       \n",
    "    except (KeyError, IndexError):\n",
    "        print(\"Missing field/result... skipping.\")\n",
    "hotel_df.info()\n"
   ]
  },
  {
   "cell_type": "code",
   "execution_count": null,
   "metadata": {},
   "outputs": [],
   "source": []
  },
  {
   "cell_type": "code",
   "execution_count": 8,
   "metadata": {},
   "outputs": [],
   "source": [
    "# NOTE: Do not change any of the code in this cell\n",
    "\n",
    "# Using the template add the hotel marks to the heatmap\n",
    "info_box_template = \"\"\"\n",
    "<dl>\n",
    "<dt>Name</dt><dd>{Hotel Name}</dd>\n",
    "<dt>City</dt><dd>{City}</dd>\n",
    "<dt>Country</dt><dd>{Country}</dd>\n",
    "</dl>\n",
    "\"\"\"\n",
    "# Store the DataFrame Row\n",
    "\n",
    "hotel_info = [info_box_template.format(**row) for index, row in hotel_df.iterrows()]\n",
    "locations = hotel_df[[\"latitude\", \"longitude\"]]"
   ]
  },
  {
   "cell_type": "code",
   "execution_count": 9,
   "metadata": {},
   "outputs": [
    {
     "data": {
      "application/vnd.jupyter.widget-view+json": {
       "model_id": "07b1e938fb414bcaa23eed528daf2642",
       "version_major": 2,
       "version_minor": 0
      },
      "text/plain": [
       "Figure(layout=FigureLayout(border='1px solid black', height='600px', margin='0 auto 0 auto', padding='1px', wi…"
      ]
     },
     "metadata": {},
     "output_type": "display_data"
    }
   ],
   "source": [
    "# Add marker layer ontop of heat map\n",
    "\n",
    "figure_layout = {\n",
    "    'width': '900px',\n",
    "    'height': '600px',\n",
    "    'border': '1px solid black',\n",
    "    'padding': '1px',\n",
    "    'margin': '0 auto 0 auto'\n",
    "}\n",
    "final_fig = gmaps.figure(layout=figure_layout,zoom_level=2,center=(15,25))\n",
    "\n",
    "# Create hotel symbol layer\n",
    "hotel_layer = gmaps.marker_layer(\n",
    "    locations,info_box_content=[info_box_template.format(**row) for index, row in hotel_df.iterrows()]\n",
    ")\n",
    "\n",
    "\n",
    "# Add layer\n",
    "final_fig.add_layer(heater_map)\n",
    "final_fig.add_layer(hotel_layer)\n",
    "# Display figure\n",
    "final_fig\n",
    "\n"
   ]
  },
  {
   "cell_type": "code",
   "execution_count": null,
   "metadata": {},
   "outputs": [],
   "source": []
  },
  {
   "cell_type": "code",
   "execution_count": null,
   "metadata": {},
   "outputs": [],
   "source": []
  },
  {
   "cell_type": "code",
   "execution_count": null,
   "metadata": {},
   "outputs": [],
   "source": []
  }
 ],
 "metadata": {
  "kernelspec": {
   "display_name": "Python [conda env:root]",
   "language": "python",
   "name": "conda-root-py"
  },
  "language_info": {
   "codemirror_mode": {
    "name": "ipython",
    "version": 3
   },
   "file_extension": ".py",
   "mimetype": "text/x-python",
   "name": "python",
   "nbconvert_exporter": "python",
   "pygments_lexer": "ipython3",
   "version": "3.8.3"
  },
  "latex_envs": {
   "LaTeX_envs_menu_present": true,
   "autoclose": false,
   "autocomplete": true,
   "bibliofile": "biblio.bib",
   "cite_by": "apalike",
   "current_citInitial": 1,
   "eqLabelWithNumbers": true,
   "eqNumInitial": 1,
   "hotkeys": {
    "equation": "Ctrl-E",
    "itemize": "Ctrl-I"
   },
   "labels_anchors": false,
   "latex_user_defs": false,
   "report_style_numbering": false,
   "user_envs_cfg": false
  }
 },
 "nbformat": 4,
 "nbformat_minor": 4
}
